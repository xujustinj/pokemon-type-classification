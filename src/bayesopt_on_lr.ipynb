{
 "cells": [
  {
   "attachments": {},
   "cell_type": "markdown",
   "id": "8e4aca38",
   "metadata": {},
   "source": [
    "# Bayesian Optimization for Logistic Regression\n",
    "\n",
    "## Setup"
   ]
  },
  {
   "cell_type": "code",
   "execution_count": 1,
   "id": "b230c01e",
   "metadata": {},
   "outputs": [
    {
     "name": "stdout",
     "output_type": "stream",
     "text": [
      "Using 5 cores\n"
     ]
    }
   ],
   "source": [
    "from tune import outer_cv, LogisticRegressionBayesOptTuner, Constant, Real"
   ]
  },
  {
   "cell_type": "code",
   "execution_count": 2,
   "id": "49bdbbee",
   "metadata": {},
   "outputs": [],
   "source": [
    "tuner = LogisticRegressionBayesOptTuner()"
   ]
  },
  {
   "cell_type": "code",
   "execution_count": 3,
   "id": "eecb67bc",
   "metadata": {},
   "outputs": [],
   "source": [
    "base_space = dict(\n",
    "    penalty=Constant(\"elasticnet\"),\n",
    "    C=Real(low=1e-4, high=1e4, prior=\"log-uniform\"),\n",
    "    l1_ratio=Real(low=0.0, high=1.0, prior=\"uniform\"),\n",
    "    solver=Constant(\"saga\"),\n",
    "    max_iter=Constant(9001),  # practically unlimited iterations\n",
    "    random_state=Constant(441),\n",
    ")"
   ]
  },
  {
   "attachments": {},
   "cell_type": "markdown",
   "id": "46ece0f5",
   "metadata": {},
   "source": [
    "## One-Versus-Rest (OVR) Logistic Regression"
   ]
  },
  {
   "cell_type": "code",
   "execution_count": 4,
   "id": "0185a5ae",
   "metadata": {},
   "outputs": [
    {
     "name": "stdout",
     "output_type": "stream",
     "text": [
      "Outer CV: 1\n"
     ]
    }
   ],
   "source": [
    "ovr_space = dict(**base_space, multi_class=Constant(\"ovr\"))\n",
    "\n",
    "outer_cv(tuner, search=ovr_space, name=\"logistic_regression/one_versus_rest\")"
   ]
  },
  {
   "attachments": {},
   "cell_type": "markdown",
   "id": "53f574a4",
   "metadata": {},
   "source": [
    "## Multinomial Logistic Regression"
   ]
  },
  {
   "cell_type": "code",
   "execution_count": null,
   "id": "e527e7a7",
   "metadata": {},
   "outputs": [],
   "source": [
    "multinomial_space = dict(**base_space, multi_class=Constant(\"multinomial\"))\n",
    "\n",
    "outer_cv(tuner, search=multinomial_space, name=\"logistic_regression/multinomial\")"
   ]
  }
 ],
 "metadata": {
  "kernelspec": {
   "display_name": "Python 3 (ipykernel)",
   "language": "python",
   "name": "python3"
  },
  "language_info": {
   "codemirror_mode": {
    "name": "ipython",
    "version": 3
   },
   "file_extension": ".py",
   "mimetype": "text/x-python",
   "name": "python",
   "nbconvert_exporter": "python",
   "pygments_lexer": "ipython3",
   "version": "3.10.6"
  }
 },
 "nbformat": 4,
 "nbformat_minor": 5
}

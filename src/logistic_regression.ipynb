{
 "cells": [
  {
   "attachments": {},
   "cell_type": "markdown",
   "id": "8e4aca38",
   "metadata": {},
   "source": [
    "# Logistic Regression\n",
    "\n",
    "We would like to perform hyperparameter selection over the set of all logistic regression models.\n",
    "\n",
    "Logistic regression with $K > 2$ classes is actually broken into two \"flavours\":\n",
    "- **one-versus-all**: Fit a separate binary classifier for each class against the rest, and classify according to the highest score.\n",
    "- **multinomial**: Fit a single classifier with $K$ outputs (one of them is 1), and take the softmax thereof. This is the flavour we learn in STAT 441, and is the default used by `sklearn`.\n",
    "\n",
    "We choose to focus on multinomial logistic regression here.\n",
    "\n",
    "## Setup"
   ]
  },
  {
   "cell_type": "code",
   "execution_count": 1,
   "id": "b230c01e",
   "metadata": {},
   "outputs": [],
   "source": [
    "from model import SKLogisticRegression, DuplicateSKLogisticRegression\n",
    "from tune import (\n",
    "    Constant,\n",
    "    outer_cv,\n",
    "    Real,\n",
    "    SKBayesTuner,\n",
    ")"
   ]
  },
  {
   "attachments": {},
   "cell_type": "markdown",
   "id": "f1a71e50",
   "metadata": {},
   "source": [
    "## Search Space\n",
    "\n",
    "For regularization, ElasticNet encompasses both L1 and L2 penalties (and with a weak enough regularization term, no-penalty as well).\n",
    "We thus parameterize the search space by the ratio of the L1 and L2 penalties, and the coefficient C representing the extent of regularization.\n",
    "\n",
    "Unfortunately, the only solver in `sklearn` that works with ElasticNet is the `saga` solver, and that solver is quite sluggish."
   ]
  },
  {
   "cell_type": "code",
   "execution_count": 2,
   "id": "9af69471",
   "metadata": {},
   "outputs": [],
   "source": [
    "space = dict(\n",
    "    # constants\n",
    "    multi_class=Constant(\"multinomial\"),\n",
    "    penalty=Constant(\"elasticnet\"),\n",
    "    solver=Constant(\"saga\"),\n",
    "    max_iter=Constant(9001),  # practically unlimited\n",
    "    random_state=Constant(441),\n",
    "    warm_start=Constant(True),  # try to speed up optimization\n",
    "    \n",
    "    # variables\n",
    "    C=Real(low=1e-4, high=1e4, prior=\"log-uniform\"),\n",
    "    l1_ratio=Real(low=0.0, high=1.0, prior=\"uniform\"),\n",
    ")"
   ]
  },
  {
   "attachments": {},
   "cell_type": "markdown",
   "id": "a9cec682",
   "metadata": {},
   "source": [
    "## Base"
   ]
  },
  {
   "cell_type": "code",
   "execution_count": null,
   "id": "dbb86e4d",
   "metadata": {},
   "outputs": [],
   "source": [
    "outer_cv(\n",
    "    tuner=SKBayesTuner(SKLogisticRegression()),\n",
    "    search=space,\n",
    "    name=\"Logistic Regression\",\n",
    "    duplicate=False,\n",
    "    hard_mode=False,\n",
    ")"
   ]
  },
  {
   "attachments": {},
   "cell_type": "markdown",
   "id": "e391dc71",
   "metadata": {},
   "source": [
    "## Hard"
   ]
  },
  {
   "cell_type": "code",
   "execution_count": null,
   "id": "c948e2d8",
   "metadata": {},
   "outputs": [],
   "source": [
    "outer_cv(\n",
    "    tuner=SKBayesTuner(SKLogisticRegression()),\n",
    "    search=space,\n",
    "    name=\"Logistic Regression\",\n",
    "    duplicate=False,\n",
    "    hard_mode=True,\n",
    ")"
   ]
  },
  {
   "attachments": {},
   "cell_type": "markdown",
   "id": "632c9adb",
   "metadata": {},
   "source": [
    "## Duplication"
   ]
  },
  {
   "cell_type": "code",
   "execution_count": null,
   "id": "28a8e095",
   "metadata": {},
   "outputs": [],
   "source": [
    "outer_cv(\n",
    "    tuner=SKBayesTuner(DuplicateSKLogisticRegression()),\n",
    "    search=space,\n",
    "    name=\"Logistic Regression\",\n",
    "    duplicate=True,\n",
    "    hard_mode=False,\n",
    ")"
   ]
  },
  {
   "attachments": {},
   "cell_type": "markdown",
   "id": "156c2560",
   "metadata": {},
   "source": [
    "## Duplication, Hard"
   ]
  },
  {
   "cell_type": "code",
   "execution_count": null,
   "id": "9358f2a6",
   "metadata": {},
   "outputs": [],
   "source": [
    "outer_cv(\n",
    "    tuner=SKBayesTuner(DuplicateSKLogisticRegression()),\n",
    "    search=space,\n",
    "    name=\"Logistic Regression\",\n",
    "    duplicate=True,\n",
    "    hard_mode=True,\n",
    ")"
   ]
  }
 ],
 "metadata": {
  "kernelspec": {
   "display_name": "Python 3 (ipykernel)",
   "language": "python",
   "name": "python3"
  },
  "language_info": {
   "codemirror_mode": {
    "name": "ipython",
    "version": 3
   },
   "file_extension": ".py",
   "mimetype": "text/x-python",
   "name": "python",
   "nbconvert_exporter": "python",
   "pygments_lexer": "ipython3",
   "version": "3.10.6"
  }
 },
 "nbformat": 4,
 "nbformat_minor": 5
}

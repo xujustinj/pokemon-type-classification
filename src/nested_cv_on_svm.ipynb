{
 "cells": [
  {
   "cell_type": "code",
   "execution_count": 1,
   "id": "b230c01e",
   "metadata": {},
   "outputs": [],
   "source": [
    "from cv.util import nested_cv\n",
    "from cv.train.train_SVM_model import train_SVM_model"
   ]
  },
  {
   "cell_type": "code",
   "execution_count": 2,
   "id": "eecb67bc",
   "metadata": {},
   "outputs": [],
   "source": [
    "SVM_model_configs = [\n",
    "    {\"C\": 1.0, \n",
    "     \"kernel\": 'linear', \n",
    "     \"degree\": 1, \n",
    "     \"gamma\": 'scale', \n",
    "     \"probability\": False,\n",
    "     \"decision_function_shape\": 'ovr'}, \n",
    "#     {\"C\": 2.0, \n",
    "#      \"kernel\": 'poly', \n",
    "#      \"degree\": 3, \n",
    "#      \"gamma\": 'scale', \n",
    "#      \"probability\": True,\n",
    "#      \"decision_function_shape\": 'ovr'},  \n",
    "    {\"C\": 1.5, \n",
    "     \"kernel\": 'rbf', \n",
    "     \"degree\": 1, \n",
    "     \"gamma\": 'auto', \n",
    "     \"probability\": False,\n",
    "     \"decision_function_shape\": 'ovr'},  \n",
    "#     {\"C\": 0.5, \n",
    "#      \"kernel\": 'sigmoid', \n",
    "#      \"degree\": 3, \n",
    "#      \"gamma\": 'scale', \n",
    "#      \"probability\": True,\n",
    "#      \"decision_function_shape\": 'ovr'}, \n",
    "]"
   ]
  },
  {
   "cell_type": "code",
   "execution_count": 3,
   "id": "c59e4dcd",
   "metadata": {},
   "outputs": [
    {
     "name": "stdout",
     "output_type": "stream",
     "text": [
      "(1045, 52)\n",
      "(1045, 54)\n",
      "(1045,)\n",
      "Outer CV run: 0\n",
      "Outer CV run: 1\n",
      "0.8\n"
     ]
    }
   ],
   "source": [
    "nested_cv(train_SVM_model, \"SVM\", SVM_model_configs, \"../trained_cv_models/\", n_folds=2)"
   ]
  },
  {
   "cell_type": "code",
   "execution_count": null,
   "id": "159f4ab4",
   "metadata": {},
   "outputs": [],
   "source": []
  },
  {
   "cell_type": "code",
   "execution_count": null,
   "id": "0cfeae3a",
   "metadata": {},
   "outputs": [],
   "source": []
  }
 ],
 "metadata": {
  "kernelspec": {
   "display_name": "Python 3 (ipykernel)",
   "language": "python",
   "name": "python3"
  },
  "language_info": {
   "codemirror_mode": {
    "name": "ipython",
    "version": 3
   },
   "file_extension": ".py",
   "mimetype": "text/x-python",
   "name": "python",
   "nbconvert_exporter": "python",
   "pygments_lexer": "ipython3",
   "version": "3.9.7"
  }
 },
 "nbformat": 4,
 "nbformat_minor": 5
}

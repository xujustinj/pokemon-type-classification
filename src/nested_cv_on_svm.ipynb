{
 "cells": [
  {
   "cell_type": "code",
   "execution_count": 9,
   "id": "b230c01e",
   "metadata": {},
   "outputs": [],
   "source": [
    "from cv.util import nested_cv\n",
    "from train.svm import SVMTrainer"
   ]
  },
  {
   "cell_type": "code",
   "execution_count": 10,
   "id": "eecb67bc",
   "metadata": {},
   "outputs": [],
   "source": [
    "SVM_model_configs = [\n",
    "    {\"C\": 1.0, \n",
    "     \"kernel\": 'linear', \n",
    "     \"degree\": 1, \n",
    "     \"gamma\": 'scale', \n",
    "     \"probability\": False,\n",
    "     \"decision_function_shape\": 'ovr'}, \n",
    "#     {\"C\": 2.0, \n",
    "#      \"kernel\": 'poly', \n",
    "#      \"degree\": 3, \n",
    "#      \"gamma\": 'scale', \n",
    "#      \"probability\": True,\n",
    "#      \"decision_function_shape\": 'ovr'},  \n",
    "    {\"C\": 1.5, \n",
    "     \"kernel\": 'rbf', \n",
    "     \"degree\": 1, \n",
    "     \"gamma\": 'auto', \n",
    "     \"probability\": False,\n",
    "     \"decision_function_shape\": 'ovr'},  \n",
    "#     {\"C\": 0.5, \n",
    "#      \"kernel\": 'sigmoid', \n",
    "#      \"degree\": 3, \n",
    "#      \"gamma\": 'scale', \n",
    "#      \"probability\": True,\n",
    "#      \"decision_function_shape\": 'ovr'}, \n",
    "]"
   ]
  },
  {
   "cell_type": "code",
   "execution_count": 11,
   "id": "c59e4dcd",
   "metadata": {},
   "outputs": [
    {
     "name": "stdout",
     "output_type": "stream",
     "text": [
      "(1045, 52)\n",
      "(1045, 54)\n",
      "(1045,)\n",
      "Outer CV run: 0\n",
      "Inner CV run\n",
      "Building Model\n"
     ]
    }
   ],
   "source": [
    "svm_trainer = SVMTrainer()\n",
    "nested_cv(svm_trainer, SVM_model_configs, \"../trained_cv_models/\", n_folds=2)"
   ]
  }
 ],
 "metadata": {
  "kernelspec": {
   "display_name": "Python 3 (ipykernel)",
   "language": "python",
   "name": "python3"
  },
  "language_info": {
   "codemirror_mode": {
    "name": "ipython",
    "version": 3
   },
   "file_extension": ".py",
   "mimetype": "text/x-python",
   "name": "python",
   "nbconvert_exporter": "python",
   "pygments_lexer": "ipython3",
   "version": "3.10.6"
  }
 },
 "nbformat": 4,
 "nbformat_minor": 5
}

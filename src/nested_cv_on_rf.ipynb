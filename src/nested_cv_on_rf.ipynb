{
 "cells": [
  {
   "cell_type": "code",
   "execution_count": 1,
   "metadata": {},
   "outputs": [],
   "source": [
    "from cv.util import nested_cv\n",
    "from train.rf import RFTrainer"
   ]
  },
  {
   "cell_type": "code",
   "execution_count": 8,
   "metadata": {},
   "outputs": [],
   "source": [
    "RF_Model_Configs = [\n",
    "    {\"n_estimators\": 1441, \n",
    "     \"criterion\": 'gini', \n",
    "     \"max_features\": 'sqrt'},\n",
    "    {\"n_estimators\": 1441, \n",
    "     \"criterion\": 'entropy', \n",
    "     \"max_features\": 'sqrt'},\n",
    "    {\"n_estimators\": 1441, \n",
    "     \"criterion\": 'log_loss', \n",
    "     \"max_features\": 'sqrt'},\n",
    "    {\"n_estimators\": 1441, \n",
    "     \"criterion\": 'gini', \n",
    "     \"max_features\": 'log2'},\n",
    "    {\"n_estimators\": 1441, \n",
    "     \"criterion\": 'entropy', \n",
    "     \"max_features\": 'log2'},\n",
    "    {\"n_estimators\": 1441, \n",
    "     \"criterion\": 'log_loss', \n",
    "     \"max_features\": 'log2'}\n",
    "]"
   ]
  },
  {
   "cell_type": "code",
   "execution_count": 9,
   "metadata": {},
   "outputs": [
    {
     "name": "stdout",
     "output_type": "stream",
     "text": [
      "Outer CV: 1\n",
      "  Inner CV: 1\n",
      "    1/6\t0.897727\t{'n_estimators': 1441, 'criterion': 'gini', 'max_features': 'sqrt'}\n",
      "    2/6\t0.875000\t{'n_estimators': 1441, 'criterion': 'entropy', 'max_features': 'sqrt'}\n",
      "    3/6\t0.875000\t{'n_estimators': 1441, 'criterion': 'log_loss', 'max_features': 'sqrt'}\n",
      "    4/6\t0.905303\t{'n_estimators': 1441, 'criterion': 'gini', 'max_features': 'log2'}\n",
      "    5/6\t0.878788\t{'n_estimators': 1441, 'criterion': 'entropy', 'max_features': 'log2'}\n",
      "    6/6\t0.878788\t{'n_estimators': 1441, 'criterion': 'log_loss', 'max_features': 'log2'}\n",
      "  Inner CV: 2\n",
      "    1/6\t0.836502\t{'n_estimators': 1441, 'criterion': 'gini', 'max_features': 'sqrt'}\n",
      "    2/6\t0.840304\t{'n_estimators': 1441, 'criterion': 'entropy', 'max_features': 'sqrt'}\n",
      "    3/6\t0.840304\t{'n_estimators': 1441, 'criterion': 'log_loss', 'max_features': 'sqrt'}\n",
      "    4/6\t0.828897\t{'n_estimators': 1441, 'criterion': 'gini', 'max_features': 'log2'}\n",
      "    5/6\t0.840304\t{'n_estimators': 1441, 'criterion': 'entropy', 'max_features': 'log2'}\n",
      "    6/6\t0.840304\t{'n_estimators': 1441, 'criterion': 'log_loss', 'max_features': 'log2'}\n",
      "Outer CV: 2\n",
      "  Inner CV: 1\n",
      "    1/6\t0.901515\t{'n_estimators': 1441, 'criterion': 'gini', 'max_features': 'sqrt'}\n",
      "    2/6\t0.886364\t{'n_estimators': 1441, 'criterion': 'entropy', 'max_features': 'sqrt'}\n",
      "    3/6\t0.886364\t{'n_estimators': 1441, 'criterion': 'log_loss', 'max_features': 'sqrt'}\n",
      "    4/6\t0.897727\t{'n_estimators': 1441, 'criterion': 'gini', 'max_features': 'log2'}\n",
      "    5/6\t0.882576\t{'n_estimators': 1441, 'criterion': 'entropy', 'max_features': 'log2'}\n",
      "    6/6\t0.882576\t{'n_estimators': 1441, 'criterion': 'log_loss', 'max_features': 'log2'}\n",
      "  Inner CV: 2\n",
      "    1/6\t0.863118\t{'n_estimators': 1441, 'criterion': 'gini', 'max_features': 'sqrt'}\n",
      "    2/6\t0.889734\t{'n_estimators': 1441, 'criterion': 'entropy', 'max_features': 'sqrt'}\n",
      "    3/6\t0.889734\t{'n_estimators': 1441, 'criterion': 'log_loss', 'max_features': 'sqrt'}\n",
      "    4/6\t0.866920\t{'n_estimators': 1441, 'criterion': 'gini', 'max_features': 'log2'}\n",
      "    5/6\t0.866920\t{'n_estimators': 1441, 'criterion': 'entropy', 'max_features': 'log2'}\n",
      "    6/6\t0.866920\t{'n_estimators': 1441, 'criterion': 'log_loss', 'max_features': 'log2'}\n",
      "0.8984819734345351\n"
     ]
    }
   ],
   "source": [
    "rf_trainer = RFTrainer()\n",
    "nested_cv(rf_trainer, RF_Model_Configs, \"../trained_cv_models/\", n_folds=2)"
   ]
  }
 ],
 "metadata": {
  "kernelspec": {
   "display_name": "venv",
   "language": "python",
   "name": "python3"
  },
  "language_info": {
   "codemirror_mode": {
    "name": "ipython",
    "version": 3
   },
   "file_extension": ".py",
   "mimetype": "text/x-python",
   "name": "python",
   "nbconvert_exporter": "python",
   "pygments_lexer": "ipython3",
   "version": "3.9.6"
  },
  "orig_nbformat": 4
 },
 "nbformat": 4,
 "nbformat_minor": 2
}

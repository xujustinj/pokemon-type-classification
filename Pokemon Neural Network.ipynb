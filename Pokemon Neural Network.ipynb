{
 "cells": [
  {
   "cell_type": "code",
   "execution_count": 1,
   "id": "d8dd167e",
   "metadata": {},
   "outputs": [
    {
     "name": "stdout",
     "output_type": "stream",
     "text": [
      "cuda\n"
     ]
    }
   ],
   "source": [
    "# Import libraries and functions\n",
    "import random\n",
    "import math\n",
    "import torch\n",
    "import pandas as pd\n",
    "import matplotlib.pyplot as plt\n",
    "import time\n",
    "import numpy as np\n",
    "import torch.nn as nn\n",
    "import torch.optim as optim\n",
    "from torch.utils.data import TensorDataset, DataLoader\n",
    "from sklearn.preprocessing import StandardScaler, OneHotEncoder, MinMaxScaler\n",
    "from sklearn.model_selection import train_test_split\n",
    "from tqdm.notebook import tqdm\n",
    "# General Setup\n",
    "torch.manual_seed(0)\n",
    "device = torch.device(\"cuda\" if torch.cuda.is_available() else \"cpu\")\n",
    "pd.set_option('display.max_rows', 500)\n",
    "print(device)"
   ]
  },
  {
   "cell_type": "code",
   "execution_count": 2,
   "id": "10b9ae4b",
   "metadata": {},
   "outputs": [],
   "source": [
    "# load and modify the data\n",
    "df = pd.read_csv('C:\\\\Users\\\\Kkda\\\\Desktop\\\\Stat 441 Final Project\\\\Pokemon_train.csv')\n",
    "df = df.drop(columns=[\"has_gender\",\"sprite_perimeter\",\"sprite_size\",\"sprite_overflow_vertical\",\"sprite_overflow_horizontal\",\"height_m\"])\n",
    "\n",
    "# Define column names\n",
    "categorical = ['type_2','status']\n",
    "\n",
    "numerical = ['generation', 'type_number', 'weight_kg', 'abilities_number','total_points', 'hp', 'attack',\n",
    "             'defense', 'sp_attack', 'sp_defense', 'speed', 'catch_rate', 'base_friendship', 'base_experience',\n",
    "             'maximum_experience', 'egg_type_number', 'proportion_male', 'egg_cycles', 'sprite_perimeter_to_size_ratio',\n",
    "             'sprite_red_mean', 'sprite_green_mean', 'sprite_blue_mean','sprite_brightness_mean', 'sprite_red_sd', \n",
    "             'sprite_green_sd', 'sprite_blue_sd', 'sprite_brightness_sd',]\n",
    "\n",
    "weakness = ['damage_from_normal', 'damage_from_fire', 'damage_from_water', 'damage_from_electric',\n",
    "            'damage_from_grass', 'damage_from_ice', 'damage_from_fighting', 'damage_from_poison',\n",
    "            'damage_from_ground', 'damage_from_flying', 'damage_from_psychic', 'damage_from_bug','damage_from_rock',\n",
    "            'damage_from_ghost', 'damage_from_dragon', 'damage_from_dark','damage_from_steel', 'damage_from_fairy']\n",
    "\n",
    "# Define class and features\n",
    "y = df['type_1']\n",
    "X = df.drop(['type_1'],axis=1)\n",
    "\n",
    "# Encode categorical variables\n",
    "y_encoded = pd.get_dummies(y)\n",
    "X_encoded = pd.get_dummies(X,columns=categorical)\n",
    "\n",
    "# Scale numerical variables\n",
    "scaler = MinMaxScaler()\n",
    "num_numeric = sum(X_encoded.dtypes == [\"float64\"]*X_encoded.shape[1])\n",
    "X_encoded.iloc[:,:num_numeric] = scaler.fit_transform(X_encoded.iloc[:,:num_numeric])\n",
    "\n",
    "# Convert X_encoded, y_encoded into PyTorch tensor\n",
    "y_tensor = torch.tensor(y_encoded.values).float()\n",
    "X_tensor = torch.tensor(X_encoded.values).float()\n",
    "\n",
    "# Set up number classes and features\n",
    "n_class = 18\n",
    "n_feature = X_tensor.shape[1]"
   ]
  },
  {
   "cell_type": "code",
   "execution_count": 3,
   "id": "18538085",
   "metadata": {},
   "outputs": [],
   "source": [
    "# Define model\n",
    "class NN(nn.Module):\n",
    "    def __init__(self, node_list):\n",
    "        super(NN, self).__init__()\n",
    "        self.layers = nn.ModuleList()\n",
    "        for i in range(1, len(node_list)):\n",
    "            self.layers.append(nn.Linear(node_list[i-1], node_list[i]))\n",
    "        self.activation = nn.ReLU()\n",
    "\n",
    "    def forward(self, x):\n",
    "        out = x\n",
    "        for i in range(len(self.layers)-1):\n",
    "            out = self.layers[i](out)\n",
    "            out = self.activation(out)\n",
    "        out = self.layers[len(self.layers)-1](out)\n",
    "#         m = nn.Softmax(dim=1)\n",
    "#         out = m(out)\n",
    "        return out"
   ]
  },
  {
   "cell_type": "code",
   "execution_count": 4,
   "id": "92fcdf4c",
   "metadata": {},
   "outputs": [],
   "source": [
    "# Prediction function\n",
    "def predict(model, X, y):\n",
    "    \n",
    "    # Set up loader and initialize\n",
    "    test_dataset = TensorDataset(X,y)\n",
    "    loader = DataLoader(test_dataset, batch_size = 9999, shuffle = False)\n",
    "    num_correct = 0\n",
    "    num_samples = 0\n",
    "    \n",
    "    # Set to model evaluation\n",
    "    model.eval()\n",
    "    \n",
    "    # Evaluate model\n",
    "    with torch.no_grad():\n",
    "        for x, y in loader:\n",
    "            x = x.to(device=device)\n",
    "            y = y.to(device=device)\n",
    "            x = x.reshape(x.shape[0], -1)\n",
    "            model_result = model(x)\n",
    "            _, prediction = model_result.max(1)\n",
    "            _, actual = y.max(1)\n",
    "            num_correct += (prediction == actual).sum()\n",
    "            num_samples += prediction.size(0)\n",
    "    \n",
    "    # Set to model training\n",
    "    model.train()\n",
    "    \n",
    "    return prediction.cpu().numpy(), actual.cpu().numpy(), num_correct/num_samples"
   ]
  },
  {
   "cell_type": "code",
   "execution_count": 5,
   "id": "21c57ace",
   "metadata": {},
   "outputs": [],
   "source": [
    "# Training function\n",
    "# Input: Model hyper parameters, training and testing data\n",
    "# Output: Model, Loss\n",
    "def train_model(learning_rate, num_epochs, batch_size, node_list, X, y):\n",
    "\n",
    "    # Create the model\n",
    "    model = NN([n_feature]+node_list+[n_class]).to(device)\n",
    "\n",
    "    # Set up loss function and optimizer\n",
    "    criterion = nn.CrossEntropyLoss()\n",
    "    optimizer = optim.Adam(model.parameters(), lr=learning_rate)\n",
    "    \n",
    "    # Set up data loader\n",
    "    train_dataset = TensorDataset(X,y)\n",
    "    train_loader = DataLoader(train_dataset, batch_size = batch_size, shuffle = True)\n",
    "    \n",
    "    # Initialize loss\n",
    "    loss = []\n",
    "    \n",
    "    # Train model\n",
    "    for epoch in range(num_epochs):\n",
    "        for batch_idx, (data, targets) in enumerate(train_loader):\n",
    "            # Get data to cuda if possible\n",
    "            data = data.to(device = device)\n",
    "            targets = targets.to(device = device)\n",
    "\n",
    "            # Reshape data\n",
    "            data = data.reshape(data.shape[0], -1)\n",
    "            \n",
    "            # Forward propagation\n",
    "            model_result = model(data)\n",
    "            current_loss = criterion(model_result, targets)\n",
    "            \n",
    "            # Zero previous gradients\n",
    "            optimizer.zero_grad()\n",
    "            \n",
    "            # back-propagation\n",
    "            current_loss.backward()\n",
    "            \n",
    "            # optimize\n",
    "            optimizer.step()\n",
    "        \n",
    "        # Record loss for current epoch\n",
    "        loss.append(float(current_loss.item()))\n",
    "        \n",
    "    return model, loss"
   ]
  },
  {
   "cell_type": "code",
   "execution_count": 6,
   "id": "8d82dd3a",
   "metadata": {
    "scrolled": false
   },
   "outputs": [
    {
     "name": "stdout",
     "output_type": "stream",
     "text": [
      "NN(\n",
      "  (layers): ModuleList(\n",
      "    (0): Linear(in_features=68, out_features=64, bias=True)\n",
      "    (1): Linear(in_features=64, out_features=128, bias=True)\n",
      "    (2): Linear(in_features=128, out_features=128, bias=True)\n",
      "    (3): Linear(in_features=128, out_features=64, bias=True)\n",
      "    (4): Linear(in_features=64, out_features=18, bias=True)\n",
      "  )\n",
      "  (activation): ReLU()\n",
      ")\n",
      "tensor(0.9464, device='cuda:0')\n",
      "[17 17  0  9  3  8 17 17 11 12 15  0  2 17  5 13 12  5 17 17  0  5  6 14\n",
      " 12 17  0  6 15  6 17 14 15 12 12 17  9  8 16 14  3 17 17  1 15 13 11 10\n",
      "  3  0  8 16  8  0 15  6  2  0  9  6 14  8  6 11  1 16  9  0 10 12  3  1\n",
      "  3  8 12  4  2  5 10 17 15  6 14  1 14  0  0 14 15 12 12 12 14 14  2 11\n",
      "  3 13  8  0  2 14  4  9 10 14 17  2  3 17 15  5  3 12  2 14 11 17 12  3\n",
      " 17 14 17  2  0  6  1 14 13 17  3  5 14  9 15  0 12  0 17 15  9 12 15 16\n",
      "  6  8 11  8 14  5  5 17 13  2 13 12  6 12 14 11  3 12  0  6 12  8 16 12]\n",
      "[17 17  0  9  3  8 17 17 11 12 15  0  2 17  5 13 12  5 17 17  0 13  6 14\n",
      " 12 17  0  6 15  6 17 14 15 12 12 17  9  8 16 14  2 17 17  1 15  3 11 10\n",
      " 16  0  8 16  8  0 15  6  2  0  9  6 14  8  6 11  1 16  9  0 15 12  3  1\n",
      "  3  8 12 14  2  5 10 17 15  6 14  1 14  0  0 14 15 12 12 12 14 14  2 11\n",
      " 16 13  8  0  2 14  4  9 10 14 17  2  3 17 15  5  3 12  2 14 11 17 12  3\n",
      " 17 14 17  2  0  6 17 14 13 17  3  5 14  9 15  0 12  0 17  6  9 12 15 16\n",
      "  6  8 11  8 14  5  5 17 13  2 13 12  6 12 14 11  3 12  0  6 12  8 16 12]\n",
      "[ True  True  True  True  True  True  True  True  True  True  True  True\n",
      "  True  True  True  True  True  True  True  True  True False  True  True\n",
      "  True  True  True  True  True  True  True  True  True  True  True  True\n",
      "  True  True  True  True False  True  True  True  True False  True  True\n",
      " False  True  True  True  True  True  True  True  True  True  True  True\n",
      "  True  True  True  True  True  True  True  True False  True  True  True\n",
      "  True  True  True False  True  True  True  True  True  True  True  True\n",
      "  True  True  True  True  True  True  True  True  True  True  True  True\n",
      " False  True  True  True  True  True  True  True  True  True  True  True\n",
      "  True  True  True  True  True  True  True  True  True  True  True  True\n",
      "  True  True  True  True  True  True False  True  True  True  True  True\n",
      "  True  True  True  True  True  True  True False  True  True  True  True\n",
      "  True  True  True  True  True  True  True  True  True  True  True  True\n",
      "  True  True  True  True  True  True  True  True  True  True  True  True]\n"
     ]
    },
    {
     "data": {
      "image/png": "[encoded data removed]",
      "text/plain": [
       "<Figure size 640x480 with 1 Axes>"
      ]
     },
     "metadata": {},
     "output_type": "display_data"
    }
   ],
   "source": [
    "# Check training function and prediction function\n",
    "\n",
    "# Prepare data\n",
    "X_train, X_test, y_train, y_test = train_test_split(X_tensor, y_tensor, test_size=0.2, random_state=random.seed(time.time()))\n",
    "\n",
    "# Model parameters\n",
    "learning_rate,num_epochs,batch_size = 0.001,400,100\n",
    "node_list = [64,128,128,64]\n",
    "\n",
    "model, loss = train_model(learning_rate, num_epochs, batch_size, node_list, X_train, y_train)\n",
    "prediction, actual, accuracy = predict(model, X_test, y_test)\n",
    "\n",
    "# Print model result\n",
    "print(model)\n",
    "print(accuracy)\n",
    "print(prediction)\n",
    "print(actual)\n",
    "print(prediction==actual)\n",
    "\n",
    "# Plot loss\n",
    "plt.plot(loss)\n",
    "plt.xlabel('Epoch')\n",
    "plt.ylabel('Loss')\n",
    "plt.show()"
   ]
  },
  {
   "cell_type": "markdown",
   "id": "aa85d388",
   "metadata": {},
   "source": [
    "# Examine the performence of NN"
   ]
  },
  {
   "cell_type": "code",
   "execution_count": null,
   "id": "6acc74a7",
   "metadata": {},
   "outputs": [
    {
     "data": {
      "application/vnd.jupyter.widget-view+json": {
       "model_id": "cca0d84dc21f467aae74446eed2c5911",
       "version_major": 2,
       "version_minor": 0
      },
      "text/plain": [
       "  0%|          | 0/100 [00:00<?, ?it/s]"
      ]
     },
     "metadata": {},
     "output_type": "display_data"
    }
   ],
   "source": [
    "# Try Optimize the model parameters\n",
    "# We do so by randomly generating 10000 models and record the best models found\n",
    "# Initialize\n",
    "n_model = 100;\n",
    "b_lrs = [0]*n_model\n",
    "b_n_epochs = [0]*n_model\n",
    "b_n_layers = [0]*n_model\n",
    "b_batch_size = [0]*n_model\n",
    "b_node_list = [[]]*n_model\n",
    "b_accuracy = [0]*n_model\n",
    "\n",
    "generate = 100\n",
    "for ii in tqdm(range(generate)):\n",
    "    # Set up model hyper parameters\n",
    "    learning_rate = round(random.uniform(0.001,0.01),4)\n",
    "    num_epochs = random.randint(50,250) # generate num of epoches\n",
    "    batch_size = random.randint(50,250) # generate batch size\n",
    "    num_hidden_layer = random.randint(2,6) # generate number of hidden layers\n",
    "    \n",
    "    # Generate node_list\n",
    "    a = random.randint(64,256)\n",
    "    b = random.randint(a,math.floor(1.5*a))\n",
    "    c = random.randint(b,math.floor(1.5*b))\n",
    "    node_lists = [[a,a],[a,b,a],[a,b,b,a],[a,b,c,b,a],[a,b,c,c,b,a]]\n",
    "    node_list = node_lists[num_hidden_layer-2]\n",
    "    \n",
    "    # Examine the average model performance\n",
    "    fit = 10\n",
    "    accuracy = 0\n",
    "    for jj in range(fit):\n",
    "        # Prepare data\n",
    "        X_train, X_test, y_train, y_test = train_test_split(X_tensor, y_tensor, test_size = 0.2, random_state = random.seed(time.time()))\n",
    "        \n",
    "        # Train model using the given hyper parameters and data\n",
    "        model, _ = train_model(learning_rate, num_epochs, batch_size, node_list, X_train, y_train)\n",
    "        \n",
    "        # Calculate accuracy of the model on test data\n",
    "        _,_, acc_temp = predict(model, X_test, y_test)\n",
    "        \n",
    "        # Add up accuracy\n",
    "        accuracy = accuracy + acc_temp\n",
    "    \n",
    "    # Compute average accuracy\n",
    "    accuracy = accuracy/fit\n",
    "    \n",
    "    # Update model if the model trained using current hyper parameters perform better\n",
    "    min_accuracy = min(b_accuracy)\n",
    "    if accuracy > min_accuracy:\n",
    "        index = b_accuracy.index(min_accuracy)\n",
    "        b_lrs[index] = learning_rate\n",
    "        b_n_epochs[index] = num_epochs\n",
    "        b_n_layers[index] = num_hidden_layer\n",
    "        b_batch_size[index] = batch_size\n",
    "        b_node_list[index] = node_list\n",
    "        b_accuracy[index] = accuracy"
   ]
  },
  {
   "cell_type": "markdown",
   "id": "b60ddb9b",
   "metadata": {},
   "source": [
    "# Examine the performence of NN without type_2 variable\n",
    "Other model reveals that type_2 has great impact on the prediction, we see if this is case for NN"
   ]
  },
  {
   "cell_type": "code",
   "execution_count": null,
   "id": "999a3650",
   "metadata": {},
   "outputs": [],
   "source": []
  },
  {
   "cell_type": "markdown",
   "id": "92a247c3",
   "metadata": {},
   "source": [
    "# Examine the performence of NN without damage_from variable"
   ]
  },
  {
   "cell_type": "code",
   "execution_count": null,
   "id": "f419e754",
   "metadata": {},
   "outputs": [],
   "source": []
  }
 ],
 "metadata": {
  "kernelspec": {
   "display_name": "Python 3 (ipykernel)",
   "language": "python",
   "name": "python3"
  },
  "language_info": {
   "codemirror_mode": {
    "name": "ipython",
    "version": 3
   },
   "file_extension": ".py",
   "mimetype": "text/x-python",
   "name": "python",
   "nbconvert_exporter": "python",
   "pygments_lexer": "ipython3",
   "version": "3.10.9"
  }
 },
 "nbformat": 4,
 "nbformat_minor": 5
}
